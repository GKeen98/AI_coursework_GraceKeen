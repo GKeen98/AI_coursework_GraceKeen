{
 "cells": [
  {
   "cell_type": "code",
   "execution_count": 286,
   "metadata": {},
   "outputs": [],
   "source": [
    "import sys\n",
    "assert sys.version_info >= (3, 5)\n",
    "\n",
    "import sklearn\n",
    "assert sklearn.__version__ >= \"0.20\"\n",
    "from sklearn import preprocessing\n",
    "from sklearn.metrics import accuracy_score, recall_score, precision_score, confusion_matrix \n",
    "\n",
    "import numpy as np\n",
    "import os\n",
    "import pandas as pd\n",
    "\n",
    "np.random.seed(42)\n",
    "\n",
    "%matplotlib inline\n",
    "import matplotlib as mpl\n",
    "import matplotlib.pyplot as plt\n",
    "mpl.rc('axes', labelsize=14)\n",
    "mpl.rc('xtick', labelsize=12)\n",
    "mpl.rc('ytick', labelsize=12)\n",
    "import seaborn as sns\n",
    "sns.set(rc={'figure.figsize':(12,8.27)})\n",
    "\n",
    "\n",
    "PROJECT_ROOT_DIR = \".\"\n",
    "CHAPTER_ID = \"classification\"\n",
    "IMAGES_PATH = os.path.join(PROJECT_ROOT_DIR, \"images\", CHAPTER_ID)\n",
    "os.makedirs(IMAGES_PATH, exist_ok=True)\n",
    "\n",
    "def save_fig(fig_id, tight_layout=True, fig_extension=\"png\", resolution=300):\n",
    "    path = os.path.join(IMAGES_PATH, fig_id + \".\" + fig_extension)\n",
    "    print(\"Saving figure\", fig_id)\n",
    "    if tight_layout:\n",
    "        plt.tight_layout()\n",
    "    plt.savefig(path, format=fig_extension, dpi=resolution)"
   ]
  },
  {
   "cell_type": "markdown",
   "metadata": {},
   "source": [
    "# Import and Examine Data"
   ]
  },
  {
   "cell_type": "code",
   "execution_count": 287,
   "metadata": {},
   "outputs": [
    {
     "data": {
      "text/html": [
       "<div>\n",
       "<style scoped>\n",
       "    .dataframe tbody tr th:only-of-type {\n",
       "        vertical-align: middle;\n",
       "    }\n",
       "\n",
       "    .dataframe tbody tr th {\n",
       "        vertical-align: top;\n",
       "    }\n",
       "\n",
       "    .dataframe thead th {\n",
       "        text-align: right;\n",
       "    }\n",
       "</style>\n",
       "<table border=\"1\" class=\"dataframe\">\n",
       "  <thead>\n",
       "    <tr style=\"text-align: right;\">\n",
       "      <th></th>\n",
       "      <th>Age</th>\n",
       "      <th>Sex</th>\n",
       "      <th>ChestPainType</th>\n",
       "      <th>RestingBP</th>\n",
       "      <th>Cholesterol</th>\n",
       "      <th>FastingBS</th>\n",
       "      <th>RestingECG</th>\n",
       "      <th>MaxHR</th>\n",
       "      <th>ExerciseAngina</th>\n",
       "      <th>Oldpeak</th>\n",
       "      <th>ST_Slope</th>\n",
       "      <th>HeartDisease</th>\n",
       "    </tr>\n",
       "  </thead>\n",
       "  <tbody>\n",
       "    <tr>\n",
       "      <th>0</th>\n",
       "      <td>40</td>\n",
       "      <td>M</td>\n",
       "      <td>ATA</td>\n",
       "      <td>140</td>\n",
       "      <td>289</td>\n",
       "      <td>0</td>\n",
       "      <td>Normal</td>\n",
       "      <td>172</td>\n",
       "      <td>N</td>\n",
       "      <td>0.0</td>\n",
       "      <td>Up</td>\n",
       "      <td>0</td>\n",
       "    </tr>\n",
       "    <tr>\n",
       "      <th>1</th>\n",
       "      <td>49</td>\n",
       "      <td>F</td>\n",
       "      <td>NAP</td>\n",
       "      <td>160</td>\n",
       "      <td>180</td>\n",
       "      <td>0</td>\n",
       "      <td>Normal</td>\n",
       "      <td>156</td>\n",
       "      <td>N</td>\n",
       "      <td>1.0</td>\n",
       "      <td>Flat</td>\n",
       "      <td>1</td>\n",
       "    </tr>\n",
       "    <tr>\n",
       "      <th>2</th>\n",
       "      <td>37</td>\n",
       "      <td>M</td>\n",
       "      <td>ATA</td>\n",
       "      <td>130</td>\n",
       "      <td>283</td>\n",
       "      <td>0</td>\n",
       "      <td>ST</td>\n",
       "      <td>98</td>\n",
       "      <td>N</td>\n",
       "      <td>0.0</td>\n",
       "      <td>Up</td>\n",
       "      <td>0</td>\n",
       "    </tr>\n",
       "    <tr>\n",
       "      <th>3</th>\n",
       "      <td>48</td>\n",
       "      <td>F</td>\n",
       "      <td>ASY</td>\n",
       "      <td>138</td>\n",
       "      <td>214</td>\n",
       "      <td>0</td>\n",
       "      <td>Normal</td>\n",
       "      <td>108</td>\n",
       "      <td>Y</td>\n",
       "      <td>1.5</td>\n",
       "      <td>Flat</td>\n",
       "      <td>1</td>\n",
       "    </tr>\n",
       "    <tr>\n",
       "      <th>4</th>\n",
       "      <td>54</td>\n",
       "      <td>M</td>\n",
       "      <td>NAP</td>\n",
       "      <td>150</td>\n",
       "      <td>195</td>\n",
       "      <td>0</td>\n",
       "      <td>Normal</td>\n",
       "      <td>122</td>\n",
       "      <td>N</td>\n",
       "      <td>0.0</td>\n",
       "      <td>Up</td>\n",
       "      <td>0</td>\n",
       "    </tr>\n",
       "  </tbody>\n",
       "</table>\n",
       "</div>"
      ],
      "text/plain": [
       "   Age Sex ChestPainType  RestingBP  Cholesterol  FastingBS RestingECG  MaxHR  \\\n",
       "0   40   M           ATA        140          289          0     Normal    172   \n",
       "1   49   F           NAP        160          180          0     Normal    156   \n",
       "2   37   M           ATA        130          283          0         ST     98   \n",
       "3   48   F           ASY        138          214          0     Normal    108   \n",
       "4   54   M           NAP        150          195          0     Normal    122   \n",
       "\n",
       "  ExerciseAngina  Oldpeak ST_Slope  HeartDisease  \n",
       "0              N      0.0       Up             0  \n",
       "1              N      1.0     Flat             1  \n",
       "2              N      0.0       Up             0  \n",
       "3              Y      1.5     Flat             1  \n",
       "4              N      0.0       Up             0  "
      ]
     },
     "execution_count": 287,
     "metadata": {},
     "output_type": "execute_result"
    }
   ],
   "source": [
    "df = pd.read_csv(\"heart.csv\")\n",
    "df.head()"
   ]
  },
  {
   "cell_type": "markdown",
   "metadata": {},
   "source": [
    "### Attribute Information\n",
    "1. Age: age of the patient years\n",
    "2. Sex: sex of the patient M: Male, F: Female\n",
    "3. ChestPainType: chest pain type TA: Typical Angina, ATA: Atypical Angina, NAP: Non-Anginal Pain, ASY: Asymptomatic\n",
    "4. RestingBP: resting blood pressure mm Hg\n",
    "5. Cholesterol: serum cholesterol mm/dl\n",
    "6. FastingBS: fasting blood sugar 1: if FastingBS > 120 mg/dl, 0: otherwise\n",
    "7. RestingECG: resting electrocardiogram results Normal: Normal, ST: having ST-T wave abnormality (T wave inversions and/or ST elevation or depression of > 0.05 mV), LVH: showing probable or definite left ventricular hypertrophy by Estes' criteria\n",
    "8. MaxHR: maximum heart rate achieved Numeric value between 60 and 202\n",
    "9. ExerciseAngina: exercise-induced angina Y: Yes, N: No\n",
    "10. Oldpeak: oldpeak = ST Numeric value measured in depression\n",
    "11. ST_Slope: the slope of the peak exercise ST segment Up: upsloping, Flat: flat, Down: downsloping\n",
    "12. HeartDisease: output class 1: heart disease, 0: Normal"
   ]
  },
  {
   "cell_type": "code",
   "execution_count": 288,
   "metadata": {},
   "outputs": [
    {
     "data": {
      "text/plain": [
       "(918, 12)"
      ]
     },
     "execution_count": 288,
     "metadata": {},
     "output_type": "execute_result"
    }
   ],
   "source": [
    "df.shape"
   ]
  },
  {
   "cell_type": "code",
   "execution_count": 289,
   "metadata": {},
   "outputs": [
    {
     "name": "stdout",
     "output_type": "stream",
     "text": [
      "<class 'pandas.core.frame.DataFrame'>\n",
      "RangeIndex: 918 entries, 0 to 917\n",
      "Data columns (total 12 columns):\n",
      " #   Column          Non-Null Count  Dtype  \n",
      "---  ------          --------------  -----  \n",
      " 0   Age             918 non-null    int64  \n",
      " 1   Sex             918 non-null    object \n",
      " 2   ChestPainType   918 non-null    object \n",
      " 3   RestingBP       918 non-null    int64  \n",
      " 4   Cholesterol     918 non-null    int64  \n",
      " 5   FastingBS       918 non-null    int64  \n",
      " 6   RestingECG      918 non-null    object \n",
      " 7   MaxHR           918 non-null    int64  \n",
      " 8   ExerciseAngina  918 non-null    object \n",
      " 9   Oldpeak         918 non-null    float64\n",
      " 10  ST_Slope        918 non-null    object \n",
      " 11  HeartDisease    918 non-null    int64  \n",
      "dtypes: float64(1), int64(6), object(5)\n",
      "memory usage: 86.2+ KB\n"
     ]
    }
   ],
   "source": [
    "df.info()"
   ]
  },
  {
   "cell_type": "code",
   "execution_count": 290,
   "metadata": {},
   "outputs": [
    {
     "data": {
      "text/html": [
       "<div>\n",
       "<style scoped>\n",
       "    .dataframe tbody tr th:only-of-type {\n",
       "        vertical-align: middle;\n",
       "    }\n",
       "\n",
       "    .dataframe tbody tr th {\n",
       "        vertical-align: top;\n",
       "    }\n",
       "\n",
       "    .dataframe thead th {\n",
       "        text-align: right;\n",
       "    }\n",
       "</style>\n",
       "<table border=\"1\" class=\"dataframe\">\n",
       "  <thead>\n",
       "    <tr style=\"text-align: right;\">\n",
       "      <th></th>\n",
       "      <th>Age</th>\n",
       "      <th>RestingBP</th>\n",
       "      <th>Cholesterol</th>\n",
       "      <th>FastingBS</th>\n",
       "      <th>MaxHR</th>\n",
       "      <th>Oldpeak</th>\n",
       "      <th>HeartDisease</th>\n",
       "    </tr>\n",
       "  </thead>\n",
       "  <tbody>\n",
       "    <tr>\n",
       "      <th>count</th>\n",
       "      <td>918.000000</td>\n",
       "      <td>918.000000</td>\n",
       "      <td>918.000000</td>\n",
       "      <td>918.000000</td>\n",
       "      <td>918.000000</td>\n",
       "      <td>918.000000</td>\n",
       "      <td>918.000000</td>\n",
       "    </tr>\n",
       "    <tr>\n",
       "      <th>mean</th>\n",
       "      <td>53.510893</td>\n",
       "      <td>132.396514</td>\n",
       "      <td>198.799564</td>\n",
       "      <td>0.233115</td>\n",
       "      <td>136.809368</td>\n",
       "      <td>0.887364</td>\n",
       "      <td>0.553377</td>\n",
       "    </tr>\n",
       "    <tr>\n",
       "      <th>std</th>\n",
       "      <td>9.432617</td>\n",
       "      <td>18.514154</td>\n",
       "      <td>109.384145</td>\n",
       "      <td>0.423046</td>\n",
       "      <td>25.460334</td>\n",
       "      <td>1.066570</td>\n",
       "      <td>0.497414</td>\n",
       "    </tr>\n",
       "    <tr>\n",
       "      <th>min</th>\n",
       "      <td>28.000000</td>\n",
       "      <td>0.000000</td>\n",
       "      <td>0.000000</td>\n",
       "      <td>0.000000</td>\n",
       "      <td>60.000000</td>\n",
       "      <td>-2.600000</td>\n",
       "      <td>0.000000</td>\n",
       "    </tr>\n",
       "    <tr>\n",
       "      <th>25%</th>\n",
       "      <td>47.000000</td>\n",
       "      <td>120.000000</td>\n",
       "      <td>173.250000</td>\n",
       "      <td>0.000000</td>\n",
       "      <td>120.000000</td>\n",
       "      <td>0.000000</td>\n",
       "      <td>0.000000</td>\n",
       "    </tr>\n",
       "    <tr>\n",
       "      <th>50%</th>\n",
       "      <td>54.000000</td>\n",
       "      <td>130.000000</td>\n",
       "      <td>223.000000</td>\n",
       "      <td>0.000000</td>\n",
       "      <td>138.000000</td>\n",
       "      <td>0.600000</td>\n",
       "      <td>1.000000</td>\n",
       "    </tr>\n",
       "    <tr>\n",
       "      <th>75%</th>\n",
       "      <td>60.000000</td>\n",
       "      <td>140.000000</td>\n",
       "      <td>267.000000</td>\n",
       "      <td>0.000000</td>\n",
       "      <td>156.000000</td>\n",
       "      <td>1.500000</td>\n",
       "      <td>1.000000</td>\n",
       "    </tr>\n",
       "    <tr>\n",
       "      <th>max</th>\n",
       "      <td>77.000000</td>\n",
       "      <td>200.000000</td>\n",
       "      <td>603.000000</td>\n",
       "      <td>1.000000</td>\n",
       "      <td>202.000000</td>\n",
       "      <td>6.200000</td>\n",
       "      <td>1.000000</td>\n",
       "    </tr>\n",
       "  </tbody>\n",
       "</table>\n",
       "</div>"
      ],
      "text/plain": [
       "              Age   RestingBP  Cholesterol   FastingBS       MaxHR  \\\n",
       "count  918.000000  918.000000   918.000000  918.000000  918.000000   \n",
       "mean    53.510893  132.396514   198.799564    0.233115  136.809368   \n",
       "std      9.432617   18.514154   109.384145    0.423046   25.460334   \n",
       "min     28.000000    0.000000     0.000000    0.000000   60.000000   \n",
       "25%     47.000000  120.000000   173.250000    0.000000  120.000000   \n",
       "50%     54.000000  130.000000   223.000000    0.000000  138.000000   \n",
       "75%     60.000000  140.000000   267.000000    0.000000  156.000000   \n",
       "max     77.000000  200.000000   603.000000    1.000000  202.000000   \n",
       "\n",
       "          Oldpeak  HeartDisease  \n",
       "count  918.000000    918.000000  \n",
       "mean     0.887364      0.553377  \n",
       "std      1.066570      0.497414  \n",
       "min     -2.600000      0.000000  \n",
       "25%      0.000000      0.000000  \n",
       "50%      0.600000      1.000000  \n",
       "75%      1.500000      1.000000  \n",
       "max      6.200000      1.000000  "
      ]
     },
     "execution_count": 290,
     "metadata": {},
     "output_type": "execute_result"
    }
   ],
   "source": [
    "df.describe()"
   ]
  },
  {
   "cell_type": "markdown",
   "metadata": {},
   "source": [
    "# Visualise Data"
   ]
  },
  {
   "cell_type": "code",
   "execution_count": 291,
   "metadata": {},
   "outputs": [],
   "source": [
    "#split Data into numerical and categorical data\n",
    "\n",
    "cat_col = ['Sex', 'ChestPainType', 'RestingECG', 'ExerciseAngina', 'ST_Slope', 'FastingBS']\n",
    "num_col = ['Age', 'RestingBP', 'Cholesterol', 'MaxHR', 'Oldpeak']\n",
    "\n",
    "label = 'HeartDisease'\n"
   ]
  },
  {
   "cell_type": "code",
   "execution_count": 292,
   "metadata": {
    "scrolled": false
   },
   "outputs": [
    {
     "data": {
      "image/png": "[encoded data removed]",
      "text/plain": [
       "<Figure size 864x595.44 with 1 Axes>"
      ]
     },
     "metadata": {},
     "output_type": "display_data"
    },
    {
     "data": {
      "image/png": "[encoded data removed]",
      "text/plain": [
       "<Figure size 864x595.44 with 1 Axes>"
      ]
     },
     "metadata": {},
     "output_type": "display_data"
    },
    {
     "data": {
      "image/png": "[encoded data removed]",
      "text/plain": [
       "<Figure size 864x595.44 with 1 Axes>"
      ]
     },
     "metadata": {},
     "output_type": "display_data"
    },
    {
     "data": {
      "image/png": "[encoded data removed]",
      "text/plain": [
       "<Figure size 864x595.44 with 1 Axes>"
      ]
     },
     "metadata": {},
     "output_type": "display_data"
    },
    {
     "data": {
      "image/png": "[encoded data removed]",
      "text/plain": [
       "<Figure size 864x595.44 with 1 Axes>"
      ]
     },
     "metadata": {},
     "output_type": "display_data"
    },
    {
     "data": {
      "image/png": "[encoded data removed]",
      "text/plain": [
       "<Figure size 864x595.44 with 1 Axes>"
      ]
     },
     "metadata": {},
     "output_type": "display_data"
    }
   ],
   "source": [
    "#create count plots for categorical data\n",
    "for col in cat_col: \n",
    "    sns.countplot(x=df[col], hue= df['HeartDisease'])\n",
    "    plt.show()"
   ]
  },
  {
   "cell_type": "code",
   "execution_count": 293,
   "metadata": {
    "scrolled": false
   },
   "outputs": [
    {
     "data": {
      "image/png": "[encoded data removed]",
      "text/plain": [
       "<Figure size 864x595.44 with 1 Axes>"
      ]
     },
     "metadata": {},
     "output_type": "display_data"
    },
    {
     "data": {
      "image/png": "[encoded data removed]",
      "text/plain": [
       "<Figure size 864x595.44 with 1 Axes>"
      ]
     },
     "metadata": {},
     "output_type": "display_data"
    },
    {
     "data": {
      "image/png": "[encoded data removed]",
      "text/plain": [
       "<Figure size 864x595.44 with 1 Axes>"
      ]
     },
     "metadata": {},
     "output_type": "display_data"
    },
    {
     "data": {
      "image/png": "[encoded data removed]",
      "text/plain": [
       "<Figure size 864x595.44 with 1 Axes>"
      ]
     },
     "metadata": {},
     "output_type": "display_data"
    },
    {
     "data": {
      "image/png": "[encoded data removed]",
      "text/plain": [
       "<Figure size 864x595.44 with 1 Axes>"
      ]
     },
     "metadata": {},
     "output_type": "display_data"
    }
   ],
   "source": [
    "#create histograms for numerical columns \n",
    "for col in num_col:\n",
    "    sns.histplot(x = col , data = df, kde = True)\n",
    "    plt.show()"
   ]
  },
  {
   "cell_type": "markdown",
   "metadata": {},
   "source": [
    "## Findings For Each Variable\n",
    "\n",
    "1. **Sex -** Men appear to be twice as likely to get heart disease than women\n",
    "2. **Ches Pain Type -** Having ASY type chest pain increases the chance of having heart disease\n",
    "3. **Resting ECG -** ST have a slightly higher chance of heart disease\n",
    "4. **Exercise Enigma -** If the person had has a exercise enigma they are more likely to have heart disease\n",
    "5. **ST_slope -** Having a flat ST slope could be a indication of heart disease\n",
    "6. **Fasting Blood sugar -** Those with high FBS are more likely to have heart disease \n",
    "7. **Age -** People who are older have a higher risk of heart disease especially from the age of 55\n",
    "8. **Resting BP -** Those with a reasting blood pressure of over 115 have a higher chance of heart disease\n",
    "9. **Choleserol -** There does seem to be a peak at around 200 however we must take into account the outlier of 0 where it is likely to be a filler result. \n",
    "10. **Max Heart Rate -** This looks to almos follow the normal distribution\n",
    "11. **Old Peak -** Again we need to consider the outlier at 0 however the higher values appear to have a increasd chance of heart disease "
   ]
  },
  {
   "cell_type": "markdown",
   "metadata": {},
   "source": [
    "# Outliers, Encoding and Scaling\n"
   ]
  },
  {
   "cell_type": "code",
   "execution_count": 294,
   "metadata": {
    "scrolled": true
   },
   "outputs": [
    {
     "data": {
      "image/png": "[encoded data removed]",
      "text/plain": [
       "<Figure size 864x595.44 with 1 Axes>"
      ]
     },
     "metadata": {},
     "output_type": "display_data"
    },
    {
     "data": {
      "image/png": "[encoded data removed]",
      "text/plain": [
       "<Figure size 864x595.44 with 1 Axes>"
      ]
     },
     "metadata": {},
     "output_type": "display_data"
    },
    {
     "data": {
      "image/png": "[encoded data removed]",
      "text/plain": [
       "<Figure size 864x595.44 with 1 Axes>"
      ]
     },
     "metadata": {},
     "output_type": "display_data"
    },
    {
     "data": {
      "image/png": "[encoded data removed]",
      "text/plain": [
       "<Figure size 864x595.44 with 1 Axes>"
      ]
     },
     "metadata": {},
     "output_type": "display_data"
    },
    {
     "data": {
      "image/png": "[encoded data removed]",
      "text/plain": [
       "<Figure size 864x595.44 with 1 Axes>"
      ]
     },
     "metadata": {},
     "output_type": "display_data"
    }
   ],
   "source": [
    "#plot boxplot for outlier detection\n",
    "for col in num_col:\n",
    "    sns.boxplot(y= col , data = df)\n",
    "    plt.show()"
   ]
  },
  {
   "cell_type": "code",
   "execution_count": 295,
   "metadata": {},
   "outputs": [],
   "source": [
    "#import scalers and test train splits\n",
    "from sklearn.preprocessing import RobustScaler\n",
    "from sklearn.preprocessing import StandardScaler\n",
    "from sklearn.model_selection import train_test_split"
   ]
  },
  {
   "cell_type": "code",
   "execution_count": 296,
   "metadata": {},
   "outputs": [],
   "source": [
    "#encode data\n",
    "label_encoder = preprocessing.LabelEncoder()"
   ]
  },
  {
   "cell_type": "code",
   "execution_count": 297,
   "metadata": {},
   "outputs": [
    {
     "data": {
      "text/plain": [
       "array([2, 1, 0])"
      ]
     },
     "execution_count": 297,
     "metadata": {},
     "output_type": "execute_result"
    }
   ],
   "source": [
    "#encode data\n",
    "df[\"Sex\"]= label_encoder.fit_transform(df[\"Sex\"])\n",
    "df[\"Sex\"].unique()\n",
    "df[\"ChestPainType\"]= label_encoder.fit_transform(df[\"ChestPainType\"])\n",
    "df[\"ChestPainType\"].unique()\n",
    "df[\"RestingECG\"]= label_encoder.fit_transform(df[\"RestingECG\"])\n",
    "df[\"RestingECG\"].unique()\n",
    "df[\"ExerciseAngina\"]= label_encoder.fit_transform(df[\"ExerciseAngina\"])\n",
    "df[\"ExerciseAngina\"].unique()\n",
    "df[\"ST_Slope\"]= label_encoder.fit_transform(df[\"ST_Slope\"])\n",
    "df[\"ST_Slope\"].unique()\n",
    "    "
   ]
  },
  {
   "cell_type": "code",
   "execution_count": 298,
   "metadata": {},
   "outputs": [
    {
     "data": {
      "text/html": [
       "<div>\n",
       "<style scoped>\n",
       "    .dataframe tbody tr th:only-of-type {\n",
       "        vertical-align: middle;\n",
       "    }\n",
       "\n",
       "    .dataframe tbody tr th {\n",
       "        vertical-align: top;\n",
       "    }\n",
       "\n",
       "    .dataframe thead th {\n",
       "        text-align: right;\n",
       "    }\n",
       "</style>\n",
       "<table border=\"1\" class=\"dataframe\">\n",
       "  <thead>\n",
       "    <tr style=\"text-align: right;\">\n",
       "      <th></th>\n",
       "      <th>Age</th>\n",
       "      <th>Sex</th>\n",
       "      <th>ChestPainType</th>\n",
       "      <th>RestingBP</th>\n",
       "      <th>Cholesterol</th>\n",
       "      <th>FastingBS</th>\n",
       "      <th>RestingECG</th>\n",
       "      <th>MaxHR</th>\n",
       "      <th>ExerciseAngina</th>\n",
       "      <th>Oldpeak</th>\n",
       "      <th>ST_Slope</th>\n",
       "      <th>HeartDisease</th>\n",
       "    </tr>\n",
       "  </thead>\n",
       "  <tbody>\n",
       "    <tr>\n",
       "      <th>0</th>\n",
       "      <td>40</td>\n",
       "      <td>1</td>\n",
       "      <td>1</td>\n",
       "      <td>140</td>\n",
       "      <td>289</td>\n",
       "      <td>0</td>\n",
       "      <td>1</td>\n",
       "      <td>172</td>\n",
       "      <td>0</td>\n",
       "      <td>0.0</td>\n",
       "      <td>2</td>\n",
       "      <td>0</td>\n",
       "    </tr>\n",
       "    <tr>\n",
       "      <th>1</th>\n",
       "      <td>49</td>\n",
       "      <td>0</td>\n",
       "      <td>2</td>\n",
       "      <td>160</td>\n",
       "      <td>180</td>\n",
       "      <td>0</td>\n",
       "      <td>1</td>\n",
       "      <td>156</td>\n",
       "      <td>0</td>\n",
       "      <td>1.0</td>\n",
       "      <td>1</td>\n",
       "      <td>1</td>\n",
       "    </tr>\n",
       "    <tr>\n",
       "      <th>2</th>\n",
       "      <td>37</td>\n",
       "      <td>1</td>\n",
       "      <td>1</td>\n",
       "      <td>130</td>\n",
       "      <td>283</td>\n",
       "      <td>0</td>\n",
       "      <td>2</td>\n",
       "      <td>98</td>\n",
       "      <td>0</td>\n",
       "      <td>0.0</td>\n",
       "      <td>2</td>\n",
       "      <td>0</td>\n",
       "    </tr>\n",
       "    <tr>\n",
       "      <th>3</th>\n",
       "      <td>48</td>\n",
       "      <td>0</td>\n",
       "      <td>0</td>\n",
       "      <td>138</td>\n",
       "      <td>214</td>\n",
       "      <td>0</td>\n",
       "      <td>1</td>\n",
       "      <td>108</td>\n",
       "      <td>1</td>\n",
       "      <td>1.5</td>\n",
       "      <td>1</td>\n",
       "      <td>1</td>\n",
       "    </tr>\n",
       "    <tr>\n",
       "      <th>4</th>\n",
       "      <td>54</td>\n",
       "      <td>1</td>\n",
       "      <td>2</td>\n",
       "      <td>150</td>\n",
       "      <td>195</td>\n",
       "      <td>0</td>\n",
       "      <td>1</td>\n",
       "      <td>122</td>\n",
       "      <td>0</td>\n",
       "      <td>0.0</td>\n",
       "      <td>2</td>\n",
       "      <td>0</td>\n",
       "    </tr>\n",
       "  </tbody>\n",
       "</table>\n",
       "</div>"
      ],
      "text/plain": [
       "   Age  Sex  ChestPainType  RestingBP  Cholesterol  FastingBS  RestingECG  \\\n",
       "0   40    1              1        140          289          0           1   \n",
       "1   49    0              2        160          180          0           1   \n",
       "2   37    1              1        130          283          0           2   \n",
       "3   48    0              0        138          214          0           1   \n",
       "4   54    1              2        150          195          0           1   \n",
       "\n",
       "   MaxHR  ExerciseAngina  Oldpeak  ST_Slope  HeartDisease  \n",
       "0    172               0      0.0         2             0  \n",
       "1    156               0      1.0         1             1  \n",
       "2     98               0      0.0         2             0  \n",
       "3    108               1      1.5         1             1  \n",
       "4    122               0      0.0         2             0  "
      ]
     },
     "execution_count": 298,
     "metadata": {},
     "output_type": "execute_result"
    }
   ],
   "source": [
    "df.head()"
   ]
  },
  {
   "cell_type": "code",
   "execution_count": 299,
   "metadata": {},
   "outputs": [],
   "source": [
    "#replace 0 value for resting bp\n",
    "df_bp = df.groupby([\"Age\",\"Sex\"]).agg({\"RestingBP\":\"mean\"}).reset_index().rename(columns={\"RestingBP\": \"BP_mean\"})\n",
    "\n",
    "df_bpclean = pd.merge(df,df_bp,on=[\"Age\",\"Sex\"])\n",
    "df_bpclean[\"RestingBP\"] = np.where(df_bpclean[\"RestingBP\"]==0, df_bpclean[\"BP_mean\"], df_bpclean[\"RestingBP\"])\n"
   ]
  },
  {
   "cell_type": "code",
   "execution_count": 300,
   "metadata": {},
   "outputs": [
    {
     "data": {
      "image/png": "[encoded data removed]",
      "text/plain": [
       "<Figure size 864x595.44 with 1 Axes>"
      ]
     },
     "metadata": {},
     "output_type": "display_data"
    }
   ],
   "source": [
    "sns.histplot(x = df_bpclean[\"RestingBP\"] , data = df, kde = True)\n",
    "plt.show()"
   ]
  },
  {
   "cell_type": "code",
   "execution_count": 301,
   "metadata": {},
   "outputs": [
    {
     "data": {
      "text/html": [
       "<div>\n",
       "<style scoped>\n",
       "    .dataframe tbody tr th:only-of-type {\n",
       "        vertical-align: middle;\n",
       "    }\n",
       "\n",
       "    .dataframe tbody tr th {\n",
       "        vertical-align: top;\n",
       "    }\n",
       "\n",
       "    .dataframe thead th {\n",
       "        text-align: right;\n",
       "    }\n",
       "</style>\n",
       "<table border=\"1\" class=\"dataframe\">\n",
       "  <thead>\n",
       "    <tr style=\"text-align: right;\">\n",
       "      <th></th>\n",
       "      <th>Age</th>\n",
       "      <th>Sex</th>\n",
       "      <th>ChestPainType</th>\n",
       "      <th>RestingBP</th>\n",
       "      <th>Cholesterol</th>\n",
       "      <th>FastingBS</th>\n",
       "      <th>RestingECG</th>\n",
       "      <th>MaxHR</th>\n",
       "      <th>ExerciseAngina</th>\n",
       "      <th>Oldpeak</th>\n",
       "      <th>ST_Slope</th>\n",
       "      <th>HeartDisease</th>\n",
       "      <th>BP_mean</th>\n",
       "      <th>Chol_mean</th>\n",
       "    </tr>\n",
       "  </thead>\n",
       "  <tbody>\n",
       "    <tr>\n",
       "      <th>0</th>\n",
       "      <td>40</td>\n",
       "      <td>1</td>\n",
       "      <td>1</td>\n",
       "      <td>140.0</td>\n",
       "      <td>289</td>\n",
       "      <td>0</td>\n",
       "      <td>1</td>\n",
       "      <td>172</td>\n",
       "      <td>0</td>\n",
       "      <td>0.0</td>\n",
       "      <td>2</td>\n",
       "      <td>0</td>\n",
       "      <td>126.5</td>\n",
       "      <td>215.833333</td>\n",
       "    </tr>\n",
       "    <tr>\n",
       "      <th>1</th>\n",
       "      <td>40</td>\n",
       "      <td>1</td>\n",
       "      <td>2</td>\n",
       "      <td>130.0</td>\n",
       "      <td>215</td>\n",
       "      <td>0</td>\n",
       "      <td>1</td>\n",
       "      <td>138</td>\n",
       "      <td>0</td>\n",
       "      <td>0.0</td>\n",
       "      <td>2</td>\n",
       "      <td>0</td>\n",
       "      <td>126.5</td>\n",
       "      <td>215.833333</td>\n",
       "    </tr>\n",
       "    <tr>\n",
       "      <th>2</th>\n",
       "      <td>40</td>\n",
       "      <td>1</td>\n",
       "      <td>0</td>\n",
       "      <td>120.0</td>\n",
       "      <td>466</td>\n",
       "      <td>1</td>\n",
       "      <td>1</td>\n",
       "      <td>152</td>\n",
       "      <td>1</td>\n",
       "      <td>1.0</td>\n",
       "      <td>1</td>\n",
       "      <td>1</td>\n",
       "      <td>126.5</td>\n",
       "      <td>215.833333</td>\n",
       "    </tr>\n",
       "    <tr>\n",
       "      <th>3</th>\n",
       "      <td>40</td>\n",
       "      <td>1</td>\n",
       "      <td>1</td>\n",
       "      <td>130.0</td>\n",
       "      <td>275</td>\n",
       "      <td>0</td>\n",
       "      <td>1</td>\n",
       "      <td>150</td>\n",
       "      <td>0</td>\n",
       "      <td>0.0</td>\n",
       "      <td>2</td>\n",
       "      <td>0</td>\n",
       "      <td>126.5</td>\n",
       "      <td>215.833333</td>\n",
       "    </tr>\n",
       "    <tr>\n",
       "      <th>4</th>\n",
       "      <td>40</td>\n",
       "      <td>1</td>\n",
       "      <td>2</td>\n",
       "      <td>140.0</td>\n",
       "      <td>235</td>\n",
       "      <td>0</td>\n",
       "      <td>1</td>\n",
       "      <td>188</td>\n",
       "      <td>0</td>\n",
       "      <td>0.0</td>\n",
       "      <td>2</td>\n",
       "      <td>0</td>\n",
       "      <td>126.5</td>\n",
       "      <td>215.833333</td>\n",
       "    </tr>\n",
       "  </tbody>\n",
       "</table>\n",
       "</div>"
      ],
      "text/plain": [
       "   Age  Sex  ChestPainType  RestingBP  Cholesterol  FastingBS  RestingECG  \\\n",
       "0   40    1              1      140.0          289          0           1   \n",
       "1   40    1              2      130.0          215          0           1   \n",
       "2   40    1              0      120.0          466          1           1   \n",
       "3   40    1              1      130.0          275          0           1   \n",
       "4   40    1              2      140.0          235          0           1   \n",
       "\n",
       "   MaxHR  ExerciseAngina  Oldpeak  ST_Slope  HeartDisease  BP_mean   Chol_mean  \n",
       "0    172               0      0.0         2             0    126.5  215.833333  \n",
       "1    138               0      0.0         2             0    126.5  215.833333  \n",
       "2    152               1      1.0         1             1    126.5  215.833333  \n",
       "3    150               0      0.0         2             0    126.5  215.833333  \n",
       "4    188               0      0.0         2             0    126.5  215.833333  "
      ]
     },
     "execution_count": 301,
     "metadata": {},
     "output_type": "execute_result"
    }
   ],
   "source": [
    "#replace 0 values in cholesterol\n",
    "df_col = df_bpclean.groupby([\"Age\",\"Sex\"]).agg({\"Cholesterol\":\"mean\"}).reset_index().rename(columns={\"Cholesterol\": \"Chol_mean\"})\n",
    "\n",
    "df_cholclean = pd.merge(df_bpclean,df_col,on=[\"Age\",\"Sex\"])\n",
    "\n",
    "\n",
    "\n",
    "df_cholclean.head()"
   ]
  },
  {
   "cell_type": "code",
   "execution_count": 302,
   "metadata": {},
   "outputs": [],
   "source": [
    "df_cholclean[\"Cholesterol\"] = np.where(df_cholclean[\"Cholesterol\"]==0, df_cholclean[\"Chol_mean\"], df_cholclean[\"Cholesterol\"])\n"
   ]
  },
  {
   "cell_type": "code",
   "execution_count": 303,
   "metadata": {},
   "outputs": [
    {
     "data": {
      "image/png": "[encoded data removed]",
      "text/plain": [
       "<Figure size 864x595.44 with 1 Axes>"
      ]
     },
     "metadata": {},
     "output_type": "display_data"
    }
   ],
   "source": [
    "sns.histplot(x = df_cholclean['Cholesterol'] , data = df, kde = True)\n",
    "plt.show()"
   ]
  },
  {
   "cell_type": "markdown",
   "metadata": {},
   "source": []
  },
  {
   "cell_type": "code",
   "execution_count": 304,
   "metadata": {},
   "outputs": [
    {
     "data": {
      "text/html": [
       "<div>\n",
       "<style scoped>\n",
       "    .dataframe tbody tr th:only-of-type {\n",
       "        vertical-align: middle;\n",
       "    }\n",
       "\n",
       "    .dataframe tbody tr th {\n",
       "        vertical-align: top;\n",
       "    }\n",
       "\n",
       "    .dataframe thead th {\n",
       "        text-align: right;\n",
       "    }\n",
       "</style>\n",
       "<table border=\"1\" class=\"dataframe\">\n",
       "  <thead>\n",
       "    <tr style=\"text-align: right;\">\n",
       "      <th></th>\n",
       "      <th>Age</th>\n",
       "      <th>Sex</th>\n",
       "      <th>ChestPainType</th>\n",
       "      <th>RestingBP</th>\n",
       "      <th>Cholesterol</th>\n",
       "      <th>FastingBS</th>\n",
       "      <th>RestingECG</th>\n",
       "      <th>MaxHR</th>\n",
       "      <th>ExerciseAngina</th>\n",
       "      <th>Oldpeak</th>\n",
       "      <th>ST_Slope</th>\n",
       "      <th>HeartDisease</th>\n",
       "    </tr>\n",
       "  </thead>\n",
       "  <tbody>\n",
       "    <tr>\n",
       "      <th>0</th>\n",
       "      <td>40</td>\n",
       "      <td>1</td>\n",
       "      <td>1</td>\n",
       "      <td>140.0</td>\n",
       "      <td>289.0</td>\n",
       "      <td>0</td>\n",
       "      <td>1</td>\n",
       "      <td>172</td>\n",
       "      <td>0</td>\n",
       "      <td>0.0</td>\n",
       "      <td>2</td>\n",
       "      <td>0</td>\n",
       "    </tr>\n",
       "    <tr>\n",
       "      <th>1</th>\n",
       "      <td>40</td>\n",
       "      <td>1</td>\n",
       "      <td>2</td>\n",
       "      <td>130.0</td>\n",
       "      <td>215.0</td>\n",
       "      <td>0</td>\n",
       "      <td>1</td>\n",
       "      <td>138</td>\n",
       "      <td>0</td>\n",
       "      <td>0.0</td>\n",
       "      <td>2</td>\n",
       "      <td>0</td>\n",
       "    </tr>\n",
       "    <tr>\n",
       "      <th>2</th>\n",
       "      <td>40</td>\n",
       "      <td>1</td>\n",
       "      <td>0</td>\n",
       "      <td>120.0</td>\n",
       "      <td>466.0</td>\n",
       "      <td>1</td>\n",
       "      <td>1</td>\n",
       "      <td>152</td>\n",
       "      <td>1</td>\n",
       "      <td>1.0</td>\n",
       "      <td>1</td>\n",
       "      <td>1</td>\n",
       "    </tr>\n",
       "    <tr>\n",
       "      <th>3</th>\n",
       "      <td>40</td>\n",
       "      <td>1</td>\n",
       "      <td>1</td>\n",
       "      <td>130.0</td>\n",
       "      <td>275.0</td>\n",
       "      <td>0</td>\n",
       "      <td>1</td>\n",
       "      <td>150</td>\n",
       "      <td>0</td>\n",
       "      <td>0.0</td>\n",
       "      <td>2</td>\n",
       "      <td>0</td>\n",
       "    </tr>\n",
       "    <tr>\n",
       "      <th>4</th>\n",
       "      <td>40</td>\n",
       "      <td>1</td>\n",
       "      <td>2</td>\n",
       "      <td>140.0</td>\n",
       "      <td>235.0</td>\n",
       "      <td>0</td>\n",
       "      <td>1</td>\n",
       "      <td>188</td>\n",
       "      <td>0</td>\n",
       "      <td>0.0</td>\n",
       "      <td>2</td>\n",
       "      <td>0</td>\n",
       "    </tr>\n",
       "  </tbody>\n",
       "</table>\n",
       "</div>"
      ],
      "text/plain": [
       "   Age  Sex  ChestPainType  RestingBP  Cholesterol  FastingBS  RestingECG  \\\n",
       "0   40    1              1      140.0        289.0          0           1   \n",
       "1   40    1              2      130.0        215.0          0           1   \n",
       "2   40    1              0      120.0        466.0          1           1   \n",
       "3   40    1              1      130.0        275.0          0           1   \n",
       "4   40    1              2      140.0        235.0          0           1   \n",
       "\n",
       "   MaxHR  ExerciseAngina  Oldpeak  ST_Slope  HeartDisease  \n",
       "0    172               0      0.0         2             0  \n",
       "1    138               0      0.0         2             0  \n",
       "2    152               1      1.0         1             1  \n",
       "3    150               0      0.0         2             0  \n",
       "4    188               0      0.0         2             0  "
      ]
     },
     "execution_count": 304,
     "metadata": {},
     "output_type": "execute_result"
    }
   ],
   "source": [
    "df_cholclean.drop('Chol_mean', axis=1, inplace=True)\n",
    "df_cholclean.drop('BP_mean', axis=1, inplace=True)\n",
    "df_cholclean.head()"
   ]
  },
  {
   "cell_type": "code",
   "execution_count": 305,
   "metadata": {},
   "outputs": [
    {
     "data": {
      "text/plain": [
       "RobustScaler()"
      ]
     },
     "execution_count": 305,
     "metadata": {},
     "output_type": "execute_result"
    }
   ],
   "source": [
    "#scale data\n",
    "scaler = RobustScaler()\n",
    "scaler.fit(df_cholclean.drop('HeartDisease',axis = 1))"
   ]
  },
  {
   "cell_type": "code",
   "execution_count": 306,
   "metadata": {},
   "outputs": [
    {
     "data": {
      "text/html": [
       "<div>\n",
       "<style scoped>\n",
       "    .dataframe tbody tr th:only-of-type {\n",
       "        vertical-align: middle;\n",
       "    }\n",
       "\n",
       "    .dataframe tbody tr th {\n",
       "        vertical-align: top;\n",
       "    }\n",
       "\n",
       "    .dataframe thead th {\n",
       "        text-align: right;\n",
       "    }\n",
       "</style>\n",
       "<table border=\"1\" class=\"dataframe\">\n",
       "  <thead>\n",
       "    <tr style=\"text-align: right;\">\n",
       "      <th></th>\n",
       "      <th>Age</th>\n",
       "      <th>Sex</th>\n",
       "      <th>ChestPainType</th>\n",
       "      <th>RestingBP</th>\n",
       "      <th>Cholesterol</th>\n",
       "      <th>FastingBS</th>\n",
       "      <th>RestingECG</th>\n",
       "      <th>MaxHR</th>\n",
       "      <th>ExerciseAngina</th>\n",
       "      <th>Oldpeak</th>\n",
       "      <th>ST_Slope</th>\n",
       "    </tr>\n",
       "  </thead>\n",
       "  <tbody>\n",
       "    <tr>\n",
       "      <th>0</th>\n",
       "      <td>-1.076923</td>\n",
       "      <td>0.0</td>\n",
       "      <td>0.5</td>\n",
       "      <td>0.5</td>\n",
       "      <td>0.880000</td>\n",
       "      <td>0.0</td>\n",
       "      <td>0.0</td>\n",
       "      <td>0.944444</td>\n",
       "      <td>0.0</td>\n",
       "      <td>-0.400000</td>\n",
       "      <td>1.0</td>\n",
       "    </tr>\n",
       "    <tr>\n",
       "      <th>1</th>\n",
       "      <td>-1.076923</td>\n",
       "      <td>0.0</td>\n",
       "      <td>1.0</td>\n",
       "      <td>0.0</td>\n",
       "      <td>-0.106667</td>\n",
       "      <td>0.0</td>\n",
       "      <td>0.0</td>\n",
       "      <td>0.000000</td>\n",
       "      <td>0.0</td>\n",
       "      <td>-0.400000</td>\n",
       "      <td>1.0</td>\n",
       "    </tr>\n",
       "    <tr>\n",
       "      <th>2</th>\n",
       "      <td>-1.076923</td>\n",
       "      <td>0.0</td>\n",
       "      <td>0.0</td>\n",
       "      <td>-0.5</td>\n",
       "      <td>3.240000</td>\n",
       "      <td>1.0</td>\n",
       "      <td>0.0</td>\n",
       "      <td>0.388889</td>\n",
       "      <td>1.0</td>\n",
       "      <td>0.266667</td>\n",
       "      <td>0.0</td>\n",
       "    </tr>\n",
       "    <tr>\n",
       "      <th>3</th>\n",
       "      <td>-1.076923</td>\n",
       "      <td>0.0</td>\n",
       "      <td>0.5</td>\n",
       "      <td>0.0</td>\n",
       "      <td>0.693333</td>\n",
       "      <td>0.0</td>\n",
       "      <td>0.0</td>\n",
       "      <td>0.333333</td>\n",
       "      <td>0.0</td>\n",
       "      <td>-0.400000</td>\n",
       "      <td>1.0</td>\n",
       "    </tr>\n",
       "    <tr>\n",
       "      <th>4</th>\n",
       "      <td>-1.076923</td>\n",
       "      <td>0.0</td>\n",
       "      <td>1.0</td>\n",
       "      <td>0.5</td>\n",
       "      <td>0.160000</td>\n",
       "      <td>0.0</td>\n",
       "      <td>0.0</td>\n",
       "      <td>1.388889</td>\n",
       "      <td>0.0</td>\n",
       "      <td>-0.400000</td>\n",
       "      <td>1.0</td>\n",
       "    </tr>\n",
       "  </tbody>\n",
       "</table>\n",
       "</div>"
      ],
      "text/plain": [
       "        Age  Sex  ChestPainType  RestingBP  Cholesterol  FastingBS  \\\n",
       "0 -1.076923  0.0            0.5        0.5     0.880000        0.0   \n",
       "1 -1.076923  0.0            1.0        0.0    -0.106667        0.0   \n",
       "2 -1.076923  0.0            0.0       -0.5     3.240000        1.0   \n",
       "3 -1.076923  0.0            0.5        0.0     0.693333        0.0   \n",
       "4 -1.076923  0.0            1.0        0.5     0.160000        0.0   \n",
       "\n",
       "   RestingECG     MaxHR  ExerciseAngina   Oldpeak  ST_Slope  \n",
       "0         0.0  0.944444             0.0 -0.400000       1.0  \n",
       "1         0.0  0.000000             0.0 -0.400000       1.0  \n",
       "2         0.0  0.388889             1.0  0.266667       0.0  \n",
       "3         0.0  0.333333             0.0 -0.400000       1.0  \n",
       "4         0.0  1.388889             0.0 -0.400000       1.0  "
      ]
     },
     "execution_count": 306,
     "metadata": {},
     "output_type": "execute_result"
    }
   ],
   "source": [
    "scaled_feat = scaler.transform(df_cholclean.drop('HeartDisease',axis = 1))\n",
    "df_clean = pd.DataFrame(scaled_feat,columns = df_cholclean.columns[:-1])\n",
    "df_clean.head()"
   ]
  },
  {
   "cell_type": "markdown",
   "metadata": {},
   "source": [
    "# Strart Training Model"
   ]
  },
  {
   "cell_type": "code",
   "execution_count": 307,
   "metadata": {
    "scrolled": false
   },
   "outputs": [],
   "source": [
    "#split into test and train\n",
    "X = df_clean\n",
    "y = df_cholclean['HeartDisease']\n",
    "X_train, X_test, y_train, y_test = train_test_split(X, y, test_size=0.22, random_state=42)\n"
   ]
  },
  {
   "cell_type": "code",
   "execution_count": 308,
   "metadata": {},
   "outputs": [
    {
     "name": "stdout",
     "output_type": "stream",
     "text": [
      "Requirement already satisfied: tensorflow in c:\\users\\grace.keen\\anaconda3\\lib\\site-packages (2.7.0)\n",
      "Requirement already satisfied: tensorboard~=2.6 in c:\\users\\grace.keen\\anaconda3\\lib\\site-packages (from tensorflow) (2.7.0)\n",
      "Requirement already satisfied: absl-py>=0.4.0 in c:\\users\\grace.keen\\anaconda3\\lib\\site-packages (from tensorflow) (1.0.0)\n",
      "Requirement already satisfied: tensorflow-io-gcs-filesystem>=0.21.0 in c:\\users\\grace.keen\\anaconda3\\lib\\site-packages (from tensorflow) (0.23.1)\n",
      "Requirement already satisfied: astunparse>=1.6.0 in c:\\users\\grace.keen\\anaconda3\\lib\\site-packages (from tensorflow) (1.6.3)\n",
      "Requirement already satisfied: termcolor>=1.1.0 in c:\\users\\grace.keen\\anaconda3\\lib\\site-packages (from tensorflow) (1.1.0)\n",
      "Requirement already satisfied: keras<2.8,>=2.7.0rc0 in c:\\users\\grace.keen\\anaconda3\\lib\\site-packages (from tensorflow) (2.7.0)\n",
      "Requirement already satisfied: gast<0.5.0,>=0.2.1 in c:\\users\\grace.keen\\anaconda3\\lib\\site-packages (from tensorflow) (0.4.0)\n",
      "Requirement already satisfied: wrapt>=1.11.0 in c:\\users\\grace.keen\\anaconda3\\lib\\site-packages (from tensorflow) (1.11.2)\n",
      "Requirement already satisfied: google-pasta>=0.1.1 in c:\\users\\grace.keen\\anaconda3\\lib\\site-packages (from tensorflow) (0.2.0)\n",
      "Requirement already satisfied: tensorflow-estimator<2.8,~=2.7.0rc0 in c:\\users\\grace.keen\\anaconda3\\lib\\site-packages (from tensorflow) (2.7.0)\n",
      "Requirement already satisfied: wheel<1.0,>=0.32.0 in c:\\users\\grace.keen\\anaconda3\\lib\\site-packages (from tensorflow) (0.35.1)\n",
      "Requirement already satisfied: six>=1.12.0 in c:\\users\\grace.keen\\anaconda3\\lib\\site-packages (from tensorflow) (1.15.0)\n",
      "Requirement already satisfied: numpy>=1.14.5 in c:\\users\\grace.keen\\anaconda3\\lib\\site-packages (from tensorflow) (1.19.2)\n",
      "Requirement already satisfied: keras-preprocessing>=1.1.1 in c:\\users\\grace.keen\\anaconda3\\lib\\site-packages (from tensorflow) (1.1.2)\n",
      "Requirement already satisfied: libclang>=9.0.1 in c:\\users\\grace.keen\\anaconda3\\lib\\site-packages (from tensorflow) (12.0.0)\n",
      "Requirement already satisfied: typing-extensions>=3.6.6 in c:\\users\\grace.keen\\anaconda3\\lib\\site-packages (from tensorflow) (3.7.4.3)\n",
      "Requirement already satisfied: opt-einsum>=2.3.2 in c:\\users\\grace.keen\\anaconda3\\lib\\site-packages (from tensorflow) (3.3.0)\n",
      "Requirement already satisfied: flatbuffers<3.0,>=1.12 in c:\\users\\grace.keen\\anaconda3\\lib\\site-packages (from tensorflow) (2.0)\n",
      "Requirement already satisfied: protobuf>=3.9.2 in c:\\users\\grace.keen\\anaconda3\\lib\\site-packages (from tensorflow) (3.19.1)\n",
      "Requirement already satisfied: grpcio<2.0,>=1.24.3 in c:\\users\\grace.keen\\anaconda3\\lib\\site-packages (from tensorflow) (1.43.0)\n",
      "Requirement already satisfied: h5py>=2.9.0 in c:\\users\\grace.keen\\anaconda3\\lib\\site-packages (from tensorflow) (2.10.0)\n",
      "Requirement already satisfied: tensorboard-plugin-wit>=1.6.0 in c:\\users\\grace.keen\\anaconda3\\lib\\site-packages (from tensorboard~=2.6->tensorflow) (1.8.1)\n",
      "Requirement already satisfied: setuptools>=41.0.0 in c:\\users\\grace.keen\\anaconda3\\lib\\site-packages (from tensorboard~=2.6->tensorflow) (50.3.1.post20201107)\n",
      "Requirement already satisfied: google-auth<3,>=1.6.3 in c:\\users\\grace.keen\\anaconda3\\lib\\site-packages (from tensorboard~=2.6->tensorflow) (2.3.3)\n",
      "Requirement already satisfied: google-auth-oauthlib<0.5,>=0.4.1 in c:\\users\\grace.keen\\anaconda3\\lib\\site-packages (from tensorboard~=2.6->tensorflow) (0.4.6)\n",
      "Requirement already satisfied: werkzeug>=0.11.15 in c:\\users\\grace.keen\\anaconda3\\lib\\site-packages (from tensorboard~=2.6->tensorflow) (1.0.1)\n",
      "Requirement already satisfied: tensorboard-data-server<0.7.0,>=0.6.0 in c:\\users\\grace.keen\\anaconda3\\lib\\site-packages (from tensorboard~=2.6->tensorflow) (0.6.1)\n",
      "Requirement already satisfied: requests<3,>=2.21.0 in c:\\users\\grace.keen\\anaconda3\\lib\\site-packages (from tensorboard~=2.6->tensorflow) (2.24.0)\n",
      "Requirement already satisfied: markdown>=2.6.8 in c:\\users\\grace.keen\\anaconda3\\lib\\site-packages (from tensorboard~=2.6->tensorflow) (3.3.6)\n",
      "Requirement already satisfied: pyasn1-modules>=0.2.1 in c:\\users\\grace.keen\\anaconda3\\lib\\site-packages (from google-auth<3,>=1.6.3->tensorboard~=2.6->tensorflow) (0.2.8)\n",
      "Requirement already satisfied: cachetools<5.0,>=2.0.0 in c:\\users\\grace.keen\\anaconda3\\lib\\site-packages (from google-auth<3,>=1.6.3->tensorboard~=2.6->tensorflow) (4.2.4)\n",
      "Requirement already satisfied: rsa<5,>=3.1.4; python_version >= \"3.6\" in c:\\users\\grace.keen\\anaconda3\\lib\\site-packages (from google-auth<3,>=1.6.3->tensorboard~=2.6->tensorflow) (4.8)\n",
      "Requirement already satisfied: requests-oauthlib>=0.7.0 in c:\\users\\grace.keen\\anaconda3\\lib\\site-packages (from google-auth-oauthlib<0.5,>=0.4.1->tensorboard~=2.6->tensorflow) (1.3.0)\n",
      "Requirement already satisfied: idna<3,>=2.5 in c:\\users\\grace.keen\\anaconda3\\lib\\site-packages (from requests<3,>=2.21.0->tensorboard~=2.6->tensorflow) (2.10)\n",
      "Requirement already satisfied: chardet<4,>=3.0.2 in c:\\users\\grace.keen\\anaconda3\\lib\\site-packages (from requests<3,>=2.21.0->tensorboard~=2.6->tensorflow) (3.0.4)\n",
      "Requirement already satisfied: urllib3!=1.25.0,!=1.25.1,<1.26,>=1.21.1 in c:\\users\\grace.keen\\anaconda3\\lib\\site-packages (from requests<3,>=2.21.0->tensorboard~=2.6->tensorflow) (1.25.11)\n",
      "Requirement already satisfied: certifi>=2017.4.17 in c:\\users\\grace.keen\\anaconda3\\lib\\site-packages (from requests<3,>=2.21.0->tensorboard~=2.6->tensorflow) (2020.6.20)\n",
      "Requirement already satisfied: importlib-metadata>=4.4; python_version < \"3.10\" in c:\\users\\grace.keen\\anaconda3\\lib\\site-packages (from markdown>=2.6.8->tensorboard~=2.6->tensorflow) (4.10.0)\n",
      "Requirement already satisfied: pyasn1<0.5.0,>=0.4.6 in c:\\users\\grace.keen\\anaconda3\\lib\\site-packages (from pyasn1-modules>=0.2.1->google-auth<3,>=1.6.3->tensorboard~=2.6->tensorflow) (0.4.8)\n",
      "Requirement already satisfied: oauthlib>=3.0.0 in c:\\users\\grace.keen\\anaconda3\\lib\\site-packages (from requests-oauthlib>=0.7.0->google-auth-oauthlib<0.5,>=0.4.1->tensorboard~=2.6->tensorflow) (3.1.1)\n",
      "Requirement already satisfied: zipp>=0.5 in c:\\users\\grace.keen\\anaconda3\\lib\\site-packages (from importlib-metadata>=4.4; python_version < \"3.10\"->markdown>=2.6.8->tensorboard~=2.6->tensorflow) (3.4.0)\n",
      "Note: you may need to restart the kernel to use updated packages.\n"
     ]
    }
   ],
   "source": [
    "pip install tensorflow\n"
   ]
  },
  {
   "cell_type": "code",
   "execution_count": 309,
   "metadata": {},
   "outputs": [],
   "source": [
    "#import tensorflow and sklearn packages \n",
    "import tensorflow as tf\n",
    "from tensorflow import keras\n",
    "\n",
    "from keras.models import Sequential\n",
    "from keras.layers import Dense, ReLU, Dropout\n",
    "from tensorflow.keras.optimizers import SGD\n",
    "from tensorflow.keras.metrics import BinaryAccuracy \n",
    "from tensorflow.keras.metrics import FalseNegatives\n",
    "from tensorflow.keras.metrics import Recall\n",
    "from tensorflow.keras.callbacks import EarlyStopping\n",
    "from numpy import sqrt\n",
    "from numpy import argmax\n",
    "from sklearn.datasets import make_classification\n",
    "from sklearn.linear_model import LogisticRegression\n",
    "from sklearn.model_selection import train_test_split\n",
    "from sklearn.metrics import roc_curve\n",
    "from sklearn.metrics import precision_recall_curve\n",
    "from sklearn.decomposition import PCA\n",
    "from sklearn.neighbors import KNeighborsClassifier\n",
    "from sklearn import tree\n",
    "from sklearn.gaussian_process.kernels import RBF\n",
    "from sklearn.ensemble import RandomForestClassifier\n",
    "from sklearn.ensemble import GradientBoostingClassifier\n",
    "from sklearn.svm import SVC\n",
    "import time \n",
    "\n",
    "import warnings\n",
    "from sklearn.exceptions import DataConversionWarning\n",
    "warnings.filterwarnings(action='ignore', category=DataConversionWarning)\n",
    "warnings.simplefilter(action='ignore', category=FutureWarning)\n"
   ]
  },
  {
   "cell_type": "markdown",
   "metadata": {},
   "source": [
    "### Comparison Models"
   ]
  },
  {
   "cell_type": "code",
   "execution_count": 310,
   "metadata": {},
   "outputs": [
    {
     "name": "stdout",
     "output_type": "stream",
     "text": [
      "Decision SVC score:  0.9064245810055865\n"
     ]
    }
   ],
   "source": [
    "#fit SVC model\n",
    "svcreg =SVC()\n",
    "svcmodel = svcreg.fit(X_train,y_train)\n",
    "svcscore = svcreg.score(X_train, y_train)\n",
    "\n",
    "print(\"Decision SVC score: \", svcscore)"
   ]
  },
  {
   "cell_type": "code",
   "execution_count": 311,
   "metadata": {},
   "outputs": [
    {
     "name": "stdout",
     "output_type": "stream",
     "text": [
      "Random Forest Model score:  0.9860335195530726\n"
     ]
    }
   ],
   "source": [
    "#fit random forest model\n",
    "randf =RandomForestClassifier(n_estimators=10)\n",
    "randfmodel = randf.fit(X_train,y_train)\n",
    "randfscore = randf.score(X_train, y_train)\n",
    "print(\"Random Forest Model score: \", randfscore)"
   ]
  },
  {
   "cell_type": "code",
   "execution_count": 312,
   "metadata": {},
   "outputs": [
    {
     "name": "stdout",
     "output_type": "stream",
     "text": [
      "Nearest Neighbor Model socre:  0.888268156424581\n"
     ]
    }
   ],
   "source": [
    "#fit K nearest neighbour model\n",
    "nnreg = KNeighborsClassifier()\n",
    "nnmodel = nnreg.fit(X_train,y_train)\n",
    "nnscore = nnreg.score(X_train, y_train)\n",
    "print(\"Nearest Neighbor Model socre: \", nnscore)"
   ]
  },
  {
   "cell_type": "code",
   "execution_count": 313,
   "metadata": {},
   "outputs": [
    {
     "name": "stdout",
     "output_type": "stream",
     "text": [
      "Gradient Boosting Model score:  0.9553072625698324\n"
     ]
    }
   ],
   "source": [
    "#fit gradient boosting classifier model \n",
    "gdc = GradientBoostingClassifier()\n",
    "gdcmodel = gdc.fit(X_train,y_train)\n",
    "gdcscore = gdc.score(X_train, y_train)\n",
    "print(\"Gradient Boosting Model score: \", gdcscore)"
   ]
  },
  {
   "cell_type": "code",
   "execution_count": 314,
   "metadata": {},
   "outputs": [
    {
     "name": "stdout",
     "output_type": "stream",
     "text": [
      "SVC precision: 0.8658536585365854\n",
      "SVC recall: 0.8964646464646465\n",
      "SVC accuracy: 0.8659217877094972\n",
      "Nearest Neighbor precision: 0.8695652173913043\n",
      "Nearest Neighbor recall: 0.8585858585858586\n",
      "Nearest Neighbor accuracy: 0.8505586592178771\n",
      "Random Forest precision: 0.8798955613577023\n",
      "Random Forest recall: 0.851010101010101\n",
      "Random Forest accuracy: 0.8533519553072626\n",
      "GDC precision: 0.8771498771498771\n",
      "GDC recall: 0.9015151515151515\n",
      "GDC recall: 0.8756983240223464\n"
     ]
    }
   ],
   "source": [
    "#evalute models through accuracy, precision and recall\n",
    "from sklearn.model_selection import cross_val_predict\n",
    "\n",
    "svcregy_train_pred = cross_val_predict(svcreg, X_train, y_train, cv=3)\n",
    "nnregy_train_pred = cross_val_predict(nnreg, X_train, y_train, cv=3)\n",
    "randregy_train_pred = cross_val_predict(randf, X_train, y_train, cv=3)\n",
    "gdcy_train_pred = cross_val_predict(gdc, X_train, y_train, cv=3)\n",
    "\n",
    "svcacc = accuracy_score(y_train, svcregy_train_pred)\n",
    "nnacc = accuracy_score(y_train, nnregy_train_pred)\n",
    "randacc = accuracy_score(y_train, randregy_train_pred)\n",
    "gdcacc = accuracy_score(y_train, gdcy_train_pred)\n",
    "\n",
    "svcpres = precision_score(y_train, svcregy_train_pred)\n",
    "nnpres = precision_score(y_train, nnregy_train_pred)\n",
    "randpres = precision_score(y_train, randregy_train_pred)\n",
    "gdcpres = precision_score(y_train, gdcy_train_pred)\n",
    "\n",
    "svcrecall = recall_score(y_train, svcregy_train_pred)\n",
    "nnrecall = recall_score(y_train, nnregy_train_pred)\n",
    "randrecall = recall_score(y_train, randregy_train_pred)\n",
    "gdcrecall = recall_score(y_train, gdcy_train_pred)\n",
    "\n",
    "\n",
    "print(\"SVC precision:\",svcpres)\n",
    "print(\"SVC recall:\",svcrecall)\n",
    "print(\"SVC accuracy:\",svcacc)\n",
    "\n",
    "print(\"Nearest Neighbor precision:\",nnpres)\n",
    "print(\"Nearest Neighbor recall:\",nnrecall)\n",
    "print(\"Nearest Neighbor accuracy:\",nnacc)\n",
    "\n",
    "print(\"Random Forest precision:\",randpres)\n",
    "print(\"Random Forest recall:\",randrecall)\n",
    "print(\"Random Forest accuracy:\",randacc)\n",
    "\n",
    "print(\"GDC precision:\",gdcpres)\n",
    "print(\"GDC recall:\",gdcrecall)\n",
    "print(\"GDC recall:\",gdcacc)\n"
   ]
  },
  {
   "cell_type": "code",
   "execution_count": 315,
   "metadata": {},
   "outputs": [],
   "source": [
    "#run hyperperamater tuning for GBC\n",
    "from sklearn.model_selection import RandomizedSearchCV\n",
    "from sklearn.metrics import make_scorer\n",
    "n_estimators = range(50, 200, 50)\n",
    "max_depth = range(1, 5, 1)\n",
    "learning_rate = [0.001, 0.01, 0.1]\n",
    "\n",
    "random_grid_gbc = {'n_estimators': n_estimators,\n",
    "                  'max_depth': max_depth,\n",
    "                  'learning_rate': learning_rate}"
   ]
  },
  {
   "cell_type": "code",
   "execution_count": 316,
   "metadata": {},
   "outputs": [
    {
     "name": "stdout",
     "output_type": "stream",
     "text": [
      "10.025654315948486\n",
      "{'n_estimators': 100, 'max_depth': 2, 'learning_rate': 0.1}\n"
     ]
    }
   ],
   "source": [
    "gbc = GradientBoostingClassifier()\n",
    "gbc_random = RandomizedSearchCV(estimator=gbc, param_distributions=random_grid_gbc, \n",
    "                                n_iter=20, cv=3, scoring='accuracy')\n",
    "t1 = time.time()\n",
    "gbc_random.fit(X_train, y_train)\n",
    "t2 = time.time()\n",
    "print(t2-t1)\n",
    "\n",
    "print(gbc_random.best_params_)"
   ]
  },
  {
   "cell_type": "code",
   "execution_count": 317,
   "metadata": {},
   "outputs": [
    {
     "name": "stdout",
     "output_type": "stream",
     "text": [
      "trained GBC accuracy: 0.8798882681564246\n",
      "trained GBC precison: 0.8780487804878049\n",
      "trained GBC recall: 0.9090909090909091\n"
     ]
    }
   ],
   "source": [
    "gbc_tuned = GradientBoostingClassifier(n_estimators=100, learning_rate=0.1,\n",
    "                                       max_depth=2, random_state=42)\n",
    "\n",
    "gbctuney_train_pred = cross_val_predict(gbc_tuned, X_train, y_train, cv=3)\n",
    "\n",
    "gbctuneacc = accuracy_score(y_train, gbctuney_train_pred)\n",
    "gbctunepres = precision_score(y_train, gbctuney_train_pred)\n",
    "gcftunerecall = recall_score(y_train, gbctuney_train_pred)\n",
    "\n",
    "\n",
    "print(\"trained GBC accuracy:\",gbctuneacc)\n",
    "print(\"trained GBC precison:\",gbctunepres)\n",
    "print(\"trained GBC recall:\",gcftunerecall)\n"
   ]
  },
  {
   "cell_type": "code",
   "execution_count": 275,
   "metadata": {},
   "outputs": [
    {
     "name": "stdout",
     "output_type": "stream",
     "text": [
      "trained GBC accuracy: 0.7623762376237624\n",
      "trained GBC precison: 0.7857142857142857\n",
      "trained GBC recall: 0.7857142857142857\n"
     ]
    }
   ],
   "source": [
    "#check model with test data\n",
    "gbctuney_test_pred = cross_val_predict(gbc_tuned, X_test, y_test, cv=3)\n",
    "tgbctuneacc = accuracy_score(y_test, gbctuney_test_pred)\n",
    "tgbctunepres = precision_score(y_test, gbctuney_test_pred)\n",
    "tgbctunerecall = recall_score(y_test, gbctuney_test_pred)\n",
    "\n",
    "print(\"trained GBC accuracy:\",tgbctuneacc)\n",
    "print(\"trained GBC precison:\",tgbctunepres)\n",
    "print(\"trained GBC recall:\",tgbctunerecall)\n"
   ]
  },
  {
   "cell_type": "markdown",
   "metadata": {},
   "source": [
    "### Neural Network"
   ]
  },
  {
   "cell_type": "code",
   "execution_count": 276,
   "metadata": {},
   "outputs": [
    {
     "name": "stdout",
     "output_type": "stream",
     "text": [
      "Model: \"sequential_8\"\n",
      "_________________________________________________________________\n",
      " Layer (type)                Output Shape              Param #   \n",
      "=================================================================\n",
      " dense_32 (Dense)            (None, 40)                480       \n",
      "                                                                 \n",
      " dense_33 (Dense)            (None, 40)                1640      \n",
      "                                                                 \n",
      " dense_34 (Dense)            (None, 40)                1640      \n",
      "                                                                 \n",
      " dense_35 (Dense)            (None, 1)                 41        \n",
      "                                                                 \n",
      "=================================================================\n",
      "Total params: 3,801\n",
      "Trainable params: 3,801\n",
      "Non-trainable params: 0\n",
      "_________________________________________________________________\n"
     ]
    }
   ],
   "source": [
    "#Build Neural network using accuracy \n",
    "model = Sequential([\n",
    "    Dense(units= 40, input_shape=(11,), activation='relu'),\n",
    "    Dense(units=40, activation='relu'),\n",
    "    Dense(units= 40, activation= 'relu'),\n",
    "    Dense(units= 1, activation='sigmoid')\n",
    "])\n",
    "\n",
    "model.summary()\n",
    "model.compile(optimizer=tf.optimizers.Adam(learning_rate=0.01), loss='categorical_hinge', metrics=['accuracy'])\n",
    "es = EarlyStopping(monitor='loss', patience=5, restore_best_weights=True)"
   ]
  },
  {
   "cell_type": "code",
   "execution_count": 277,
   "metadata": {},
   "outputs": [
    {
     "name": "stdout",
     "output_type": "stream",
     "text": [
      "Epoch 1/2000\n",
      "23/23 [==============================] - 1s 3ms/step - loss: 0.7225 - accuracy: 0.7654\n",
      "Epoch 2/2000\n",
      "23/23 [==============================] - 0s 3ms/step - loss: 0.6071 - accuracy: 0.8422\n",
      "Epoch 3/2000\n",
      "23/23 [==============================] - 0s 3ms/step - loss: 0.5913 - accuracy: 0.8534\n",
      "Epoch 4/2000\n",
      "23/23 [==============================] - 0s 4ms/step - loss: 0.5882 - accuracy: 0.8617\n",
      "Epoch 5/2000\n",
      "23/23 [==============================] - 0s 4ms/step - loss: 0.5813 - accuracy: 0.8687\n",
      "Epoch 6/2000\n",
      "23/23 [==============================] - 0s 4ms/step - loss: 0.5878 - accuracy: 0.8575\n",
      "Epoch 7/2000\n",
      "23/23 [==============================] - 0s 4ms/step - loss: 0.5987 - accuracy: 0.8492\n",
      "Epoch 8/2000\n",
      "23/23 [==============================] - 0s 3ms/step - loss: 0.5781 - accuracy: 0.8701\n",
      "Epoch 9/2000\n",
      "23/23 [==============================] - 0s 3ms/step - loss: 0.5729 - accuracy: 0.8771\n",
      "Epoch 10/2000\n",
      "23/23 [==============================] - 0s 3ms/step - loss: 0.5767 - accuracy: 0.8687\n",
      "Epoch 11/2000\n",
      "23/23 [==============================] - 0s 3ms/step - loss: 0.5696 - accuracy: 0.8799\n",
      "Epoch 12/2000\n",
      "23/23 [==============================] - 0s 3ms/step - loss: 0.5699 - accuracy: 0.8771\n",
      "Epoch 13/2000\n",
      "23/23 [==============================] - 0s 3ms/step - loss: 0.5729 - accuracy: 0.8743\n",
      "Epoch 14/2000\n",
      "23/23 [==============================] - 0s 3ms/step - loss: 0.5780 - accuracy: 0.8673\n",
      "Epoch 15/2000\n",
      "23/23 [==============================] - 0s 4ms/step - loss: 0.5693 - accuracy: 0.8785\n",
      "Epoch 16/2000\n",
      "23/23 [==============================] - 0s 3ms/step - loss: 0.5896 - accuracy: 0.8589\n",
      "Epoch 17/2000\n",
      "23/23 [==============================] - 0s 3ms/step - loss: 0.5697 - accuracy: 0.8785\n",
      "Epoch 18/2000\n",
      "23/23 [==============================] - 0s 4ms/step - loss: 0.5639 - accuracy: 0.8841\n",
      "Epoch 19/2000\n",
      "23/23 [==============================] - 0s 4ms/step - loss: 0.5612 - accuracy: 0.8883\n",
      "Epoch 20/2000\n",
      "23/23 [==============================] - 0s 3ms/step - loss: 0.5610 - accuracy: 0.8855\n",
      "Epoch 21/2000\n",
      "23/23 [==============================] - 0s 4ms/step - loss: 0.5550 - accuracy: 0.8911\n",
      "Epoch 22/2000\n",
      "23/23 [==============================] - 0s 4ms/step - loss: 0.5640 - accuracy: 0.8841\n",
      "Epoch 23/2000\n",
      "23/23 [==============================] - 0s 4ms/step - loss: 0.5678 - accuracy: 0.8799\n",
      "Epoch 24/2000\n",
      "23/23 [==============================] - 0s 4ms/step - loss: 0.5663 - accuracy: 0.8813\n",
      "Epoch 25/2000\n",
      "23/23 [==============================] - 0s 3ms/step - loss: 0.5620 - accuracy: 0.8841\n",
      "Epoch 26/2000\n",
      "23/23 [==============================] - 0s 3ms/step - loss: 0.5506 - accuracy: 0.8953\n",
      "Epoch 27/2000\n",
      "23/23 [==============================] - 0s 4ms/step - loss: 0.5549 - accuracy: 0.8939\n",
      "Epoch 28/2000\n",
      "23/23 [==============================] - 0s 4ms/step - loss: 0.5615 - accuracy: 0.8855\n",
      "Epoch 29/2000\n",
      "23/23 [==============================] - 0s 3ms/step - loss: 0.5564 - accuracy: 0.8925\n",
      "Epoch 30/2000\n",
      "23/23 [==============================] - 0s 3ms/step - loss: 0.6044 - accuracy: 0.8436\n",
      "Epoch 31/2000\n",
      "23/23 [==============================] - 0s 2ms/step - loss: 0.5582 - accuracy: 0.8897\n"
     ]
    },
    {
     "data": {
      "text/plain": [
       "<keras.callbacks.History at 0x264c9326700>"
      ]
     },
     "execution_count": 277,
     "metadata": {},
     "output_type": "execute_result"
    }
   ],
   "source": [
    "#fit model 1 to train data\n",
    "model.fit(X_train, y_train, epochs=2000,callbacks=[es])"
   ]
  },
  {
   "cell_type": "code",
   "execution_count": 278,
   "metadata": {
    "scrolled": true
   },
   "outputs": [
    {
     "name": "stdout",
     "output_type": "stream",
     "text": [
      "Model Confusion Matrix: [[280  40]\n",
      " [ 29 367]]\n",
      "Model Accuracy: 0.9036312849162011\n",
      "Model Recall: 0.9267676767676768\n",
      "Model Precision: 0.9017199017199017\n"
     ]
    }
   ],
   "source": [
    "predicted = (model.predict(X_train) >= 0.5)\n",
    "\n",
    "confmatrix = confusion_matrix(y_train, predicted)\n",
    "acc = accuracy_score(y_train, predicted)\n",
    "rec = recall_score(y_train, predicted)\n",
    "pre = precision_score(y_train, predicted)\n",
    "\n",
    "print('Model Confusion Matrix:', confmatrix)\n",
    "print('Model Accuracy:', acc)\n",
    "print('Model Recall:', rec)\n",
    "print('Model Precision:', pre)"
   ]
  },
  {
   "cell_type": "code",
   "execution_count": 279,
   "metadata": {},
   "outputs": [
    {
     "name": "stdout",
     "output_type": "stream",
     "text": [
      "Model Confusion Matrix: [[71 19]\n",
      " [14 98]]\n",
      "Model Accuracy: 0.8366336633663366\n",
      "Model Recall: 0.875\n",
      "Model Precision: 0.8376068376068376\n"
     ]
    }
   ],
   "source": [
    "#run check with test data\n",
    "predicted = (model.predict(X_test) >= 0.5)\n",
    "\n",
    "confmatrix = confusion_matrix(y_test, predicted)\n",
    "acc = accuracy_score(y_test, predicted)\n",
    "rec = recall_score(y_test, predicted)\n",
    "pre = precision_score(y_test, predicted)\n",
    "\n",
    "print('Model Confusion Matrix:', confmatrix)\n",
    "print('Model Accuracy:', acc)\n",
    "print('Model Recall:', rec)\n",
    "print('Model Precision:', pre)"
   ]
  },
  {
   "cell_type": "code",
   "execution_count": 280,
   "metadata": {},
   "outputs": [
    {
     "name": "stdout",
     "output_type": "stream",
     "text": [
      "Model: \"sequential_9\"\n",
      "_________________________________________________________________\n",
      " Layer (type)                Output Shape              Param #   \n",
      "=================================================================\n",
      " dense_36 (Dense)            (None, 40)                480       \n",
      "                                                                 \n",
      " dense_37 (Dense)            (None, 40)                1640      \n",
      "                                                                 \n",
      " dense_38 (Dense)            (None, 40)                1640      \n",
      "                                                                 \n",
      " dense_39 (Dense)            (None, 1)                 41        \n",
      "                                                                 \n",
      "=================================================================\n",
      "Total params: 3,801\n",
      "Trainable params: 3,801\n",
      "Non-trainable params: 0\n",
      "_________________________________________________________________\n"
     ]
    }
   ],
   "source": [
    "#create model 2 using recall metric\n",
    "model2 = Sequential([\n",
    "    Dense(units= 40, input_shape=(11,), activation='relu'),\n",
    "    Dense(units=40, activation='relu'),\n",
    "    Dense(units=40, activation='relu'),\n",
    "    Dense(units= 1, activation='sigmoid')\n",
    "])\n",
    "\n",
    "model2.summary()\n",
    "model2.compile(optimizer=tf.optimizers.Adam(learning_rate=0.01), loss='categorical_hinge', metrics=[Recall()])"
   ]
  },
  {
   "cell_type": "code",
   "execution_count": 281,
   "metadata": {},
   "outputs": [
    {
     "name": "stdout",
     "output_type": "stream",
     "text": [
      "Epoch 1/80\n",
      "23/23 [==============================] - 1s 3ms/step - loss: 0.7322 - recall_4: 0.7500\n",
      "Epoch 2/80\n",
      "23/23 [==============================] - 0s 3ms/step - loss: 0.6004 - recall_4: 0.8611\n",
      "Epoch 3/80\n",
      "23/23 [==============================] - 0s 3ms/step - loss: 0.5883 - recall_4: 0.9217\n",
      "Epoch 4/80\n",
      "23/23 [==============================] - 0s 4ms/step - loss: 0.5739 - recall_4: 0.9066\n",
      "Epoch 5/80\n",
      "23/23 [==============================] - 0s 3ms/step - loss: 0.5800 - recall_4: 0.9318\n",
      "Epoch 6/80\n",
      "23/23 [==============================] - 0s 4ms/step - loss: 0.5834 - recall_4: 0.8611\n",
      "Epoch 7/80\n",
      "23/23 [==============================] - 0s 3ms/step - loss: 0.5716 - recall_4: 0.8939\n",
      "Epoch 8/80\n",
      "23/23 [==============================] - 0s 3ms/step - loss: 0.5802 - recall_4: 0.8687\n",
      "Epoch 9/80\n",
      "23/23 [==============================] - 0s 3ms/step - loss: 0.5775 - recall_4: 0.8939\n",
      "Epoch 10/80\n",
      "23/23 [==============================] - 0s 3ms/step - loss: 0.5677 - recall_4: 0.8939\n",
      "Epoch 11/80\n",
      "23/23 [==============================] - 0s 4ms/step - loss: 0.5652 - recall_4: 0.9192\n",
      "Epoch 12/80\n",
      "23/23 [==============================] - 0s 4ms/step - loss: 0.5750 - recall_4: 0.8586\n",
      "Epoch 13/80\n",
      "23/23 [==============================] - 0s 3ms/step - loss: 0.5684 - recall_4: 0.8763\n",
      "Epoch 14/80\n",
      "23/23 [==============================] - 0s 3ms/step - loss: 0.5643 - recall_4: 0.9015\n",
      "Epoch 15/80\n",
      "23/23 [==============================] - 0s 3ms/step - loss: 0.5626 - recall_4: 0.9141\n",
      "Epoch 16/80\n",
      "23/23 [==============================] - 0s 3ms/step - loss: 0.5665 - recall_4: 0.8889\n",
      "Epoch 17/80\n",
      "23/23 [==============================] - 0s 3ms/step - loss: 0.5600 - recall_4: 0.9141\n",
      "Epoch 18/80\n",
      "23/23 [==============================] - 0s 3ms/step - loss: 0.5598 - recall_4: 0.9091\n",
      "Epoch 19/80\n",
      "23/23 [==============================] - 0s 4ms/step - loss: 0.5570 - recall_4: 0.9040\n",
      "Epoch 20/80\n",
      "23/23 [==============================] - 0s 4ms/step - loss: 0.5592 - recall_4: 0.9040\n",
      "Epoch 21/80\n",
      "23/23 [==============================] - 0s 4ms/step - loss: 0.5731 - recall_4: 0.8687\n",
      "Epoch 22/80\n",
      "23/23 [==============================] - 0s 4ms/step - loss: 0.5624 - recall_4: 0.9268\n",
      "Epoch 23/80\n",
      "23/23 [==============================] - 0s 4ms/step - loss: 0.5628 - recall_4: 0.9091\n",
      "Epoch 24/80\n",
      "23/23 [==============================] - 0s 3ms/step - loss: 0.5786 - recall_4: 0.9192\n",
      "Epoch 25/80\n",
      "23/23 [==============================] - 0s 4ms/step - loss: 0.5743 - recall_4: 0.9217\n",
      "Epoch 26/80\n",
      "23/23 [==============================] - 0s 4ms/step - loss: 0.5592 - recall_4: 0.8990\n",
      "Epoch 27/80\n",
      "23/23 [==============================] - 0s 3ms/step - loss: 0.5539 - recall_4: 0.9066\n",
      "Epoch 28/80\n",
      "23/23 [==============================] - 0s 3ms/step - loss: 0.5532 - recall_4: 0.9167\n",
      "Epoch 29/80\n",
      "23/23 [==============================] - 0s 3ms/step - loss: 0.5507 - recall_4: 0.9217\n",
      "Epoch 30/80\n",
      "23/23 [==============================] - 0s 4ms/step - loss: 0.5585 - recall_4: 0.9268\n",
      "Epoch 31/80\n",
      "23/23 [==============================] - 0s 3ms/step - loss: 0.5572 - recall_4: 0.9318\n",
      "Epoch 32/80\n",
      "23/23 [==============================] - 0s 3ms/step - loss: 0.5540 - recall_4: 0.9268\n",
      "Epoch 33/80\n",
      "23/23 [==============================] - 0s 4ms/step - loss: 0.5535 - recall_4: 0.9419\n",
      "Epoch 34/80\n",
      "23/23 [==============================] - 0s 4ms/step - loss: 0.5648 - recall_4: 0.8965\n",
      "Epoch 35/80\n",
      "23/23 [==============================] - 0s 4ms/step - loss: 0.5547 - recall_4: 0.9066\n",
      "Epoch 36/80\n",
      "23/23 [==============================] - 0s 3ms/step - loss: 0.5590 - recall_4: 0.9066\n",
      "Epoch 37/80\n",
      "23/23 [==============================] - 0s 3ms/step - loss: 0.5570 - recall_4: 0.8914\n",
      "Epoch 38/80\n",
      "23/23 [==============================] - 0s 3ms/step - loss: 0.5552 - recall_4: 0.8965\n",
      "Epoch 39/80\n",
      "23/23 [==============================] - 0s 3ms/step - loss: 0.5557 - recall_4: 0.8965\n",
      "Epoch 40/80\n",
      "23/23 [==============================] - 0s 4ms/step - loss: 0.5634 - recall_4: 0.8864\n",
      "Epoch 41/80\n",
      "23/23 [==============================] - 0s 4ms/step - loss: 0.5777 - recall_4: 0.9394\n",
      "Epoch 42/80\n",
      "23/23 [==============================] - ETA: 0s - loss: 0.5673 - recall_4: 0.94 - 0s 4ms/step - loss: 0.5605 - recall_4: 0.9419\n",
      "Epoch 43/80\n",
      "23/23 [==============================] - 0s 3ms/step - loss: 0.5617 - recall_4: 0.9141\n",
      "Epoch 44/80\n",
      "23/23 [==============================] - 0s 3ms/step - loss: 0.5610 - recall_4: 0.8965\n",
      "Epoch 45/80\n",
      "23/23 [==============================] - 0s 3ms/step - loss: 0.5707 - recall_4: 0.9343\n",
      "Epoch 46/80\n",
      "23/23 [==============================] - 0s 3ms/step - loss: 0.5805 - recall_4: 0.9470\n",
      "Epoch 47/80\n",
      "23/23 [==============================] - 0s 4ms/step - loss: 0.5529 - recall_4: 0.9394\n",
      "Epoch 48/80\n",
      "23/23 [==============================] - 0s 4ms/step - loss: 0.5558 - recall_4: 0.9293\n",
      "Epoch 49/80\n",
      "23/23 [==============================] - 0s 4ms/step - loss: 0.5553 - recall_4: 0.9343\n",
      "Epoch 50/80\n",
      "23/23 [==============================] - 0s 3ms/step - loss: 0.5490 - recall_4: 0.9318\n",
      "Epoch 51/80\n",
      "23/23 [==============================] - 0s 3ms/step - loss: 0.5476 - recall_4: 0.9318\n",
      "Epoch 52/80\n",
      "23/23 [==============================] - 0s 4ms/step - loss: 0.5489 - recall_4: 0.9318\n",
      "Epoch 53/80\n",
      "23/23 [==============================] - 0s 4ms/step - loss: 0.5488 - recall_4: 0.9318\n",
      "Epoch 54/80\n",
      "23/23 [==============================] - 0s 4ms/step - loss: 0.5568 - recall_4: 0.9369\n",
      "Epoch 55/80\n",
      "23/23 [==============================] - 0s 3ms/step - loss: 0.5534 - recall_4: 0.9444\n",
      "Epoch 56/80\n",
      "23/23 [==============================] - 0s 3ms/step - loss: 0.5688 - recall_4: 0.9495\n",
      "Epoch 57/80\n",
      "23/23 [==============================] - 0s 3ms/step - loss: 0.5603 - recall_4: 0.9545\n",
      "Epoch 58/80\n",
      "23/23 [==============================] - 0s 4ms/step - loss: 0.5558 - recall_4: 0.9217\n",
      "Epoch 59/80\n",
      "23/23 [==============================] - 0s 3ms/step - loss: 0.5603 - recall_4: 0.8965\n",
      "Epoch 60/80\n",
      "23/23 [==============================] - 0s 3ms/step - loss: 0.5588 - recall_4: 0.9167\n",
      "Epoch 61/80\n",
      "23/23 [==============================] - 0s 3ms/step - loss: 0.5685 - recall_4: 0.9520\n",
      "Epoch 62/80\n",
      "23/23 [==============================] - 0s 3ms/step - loss: 0.5655 - recall_4: 0.9242\n",
      "Epoch 63/80\n",
      "23/23 [==============================] - 0s 3ms/step - loss: 0.5514 - recall_4: 0.9419\n",
      "Epoch 64/80\n",
      "23/23 [==============================] - 0s 4ms/step - loss: 0.5401 - recall_4: 0.9470\n",
      "Epoch 65/80\n",
      "23/23 [==============================] - 0s 3ms/step - loss: 0.5527 - recall_4: 0.9192\n",
      "Epoch 66/80\n",
      "23/23 [==============================] - 0s 4ms/step - loss: 0.5437 - recall_4: 0.9394\n",
      "Epoch 67/80\n",
      "23/23 [==============================] - 0s 3ms/step - loss: 0.5371 - recall_4: 0.9520\n",
      "Epoch 68/80\n",
      "23/23 [==============================] - 0s 3ms/step - loss: 0.5335 - recall_4: 0.9520\n",
      "Epoch 69/80\n",
      "23/23 [==============================] - 0s 4ms/step - loss: 0.5335 - recall_4: 0.9520\n",
      "Epoch 70/80\n",
      "23/23 [==============================] - 0s 4ms/step - loss: 0.5335 - recall_4: 0.9520\n",
      "Epoch 71/80\n",
      "23/23 [==============================] - 0s 3ms/step - loss: 0.5335 - recall_4: 0.9520\n",
      "Epoch 72/80\n",
      "23/23 [==============================] - 0s 4ms/step - loss: 0.5335 - recall_4: 0.9520\n",
      "Epoch 73/80\n",
      "23/23 [==============================] - 0s 4ms/step - loss: 0.5335 - recall_4: 0.9520\n",
      "Epoch 74/80\n",
      "23/23 [==============================] - 0s 3ms/step - loss: 0.5335 - recall_4: 0.9520\n",
      "Epoch 75/80\n",
      "23/23 [==============================] - 0s 3ms/step - loss: 0.5335 - recall_4: 0.9520\n",
      "Epoch 76/80\n",
      "23/23 [==============================] - 0s 3ms/step - loss: 0.5335 - recall_4: 0.9520\n",
      "Epoch 77/80\n",
      "23/23 [==============================] - 0s 3ms/step - loss: 0.5335 - recall_4: 0.9520\n",
      "Epoch 78/80\n",
      "23/23 [==============================] - 0s 4ms/step - loss: 0.5335 - recall_4: 0.9520\n",
      "Epoch 79/80\n",
      "23/23 [==============================] - 0s 3ms/step - loss: 0.5335 - recall_4: 0.9520\n",
      "Epoch 80/80\n",
      "23/23 [==============================] - 0s 3ms/step - loss: 0.5335 - recall_4: 0.9520\n"
     ]
    },
    {
     "data": {
      "text/plain": [
       "<keras.callbacks.History at 0x264d0bc0a00>"
      ]
     },
     "execution_count": 281,
     "metadata": {},
     "output_type": "execute_result"
    }
   ],
   "source": [
    "model2.fit(X_train, y_train, epochs=80)"
   ]
  },
  {
   "cell_type": "code",
   "execution_count": 282,
   "metadata": {},
   "outputs": [
    {
     "name": "stdout",
     "output_type": "stream",
     "text": [
      "Model Confusion Matrix: [[277  43]\n",
      " [ 19 377]]\n",
      "Model Accuracy: 0.9134078212290503\n",
      "Model Recall: 0.952020202020202\n",
      "Model Precision: 0.8976190476190476\n"
     ]
    }
   ],
   "source": [
    "predicted = (model2.predict(X_train) >= 0.5)\n",
    "\n",
    "confmatrix = confusion_matrix(y_train, predicted)\n",
    "acc = accuracy_score(y_train, predicted)\n",
    "rec = recall_score(y_train, predicted)\n",
    "pre = precision_score(y_train, predicted)\n",
    "\n",
    "print('Model Confusion Matrix:', confmatrix)\n",
    "print('Model Accuracy:', acc)\n",
    "print('Model Recall:', rec)\n",
    "print('Model Precision:', pre)"
   ]
  },
  {
   "cell_type": "code",
   "execution_count": 283,
   "metadata": {},
   "outputs": [
    {
     "name": "stdout",
     "output_type": "stream",
     "text": [
      "Model Confusion Matrix: [[ 70  20]\n",
      " [ 12 100]]\n",
      "Model Accuracy: 0.8415841584158416\n",
      "Model Recall: 0.8928571428571429\n",
      "Model Precision: 0.8333333333333334\n"
     ]
    }
   ],
   "source": [
    "#check with test data\n",
    "predicted = (model2.predict(X_test) >= 0.5)\n",
    "\n",
    "confmatrix2 = confusion_matrix(y_test, predicted)\n",
    "acc2 = accuracy_score(y_test, predicted)\n",
    "rec2 = recall_score(y_test, predicted)\n",
    "pre2 = precision_score(y_test, predicted)\n",
    "\n",
    "print('Model Confusion Matrix:', confmatrix2)\n",
    "print('Model Accuracy:', acc2)\n",
    "print('Model Recall:', rec2)\n",
    "print('Model Precision:', pre2)"
   ]
  },
  {
   "cell_type": "code",
   "execution_count": 284,
   "metadata": {},
   "outputs": [
    {
     "data": {
      "image/png": "[encoded data removed]",
      "text/plain": [
       "<Figure size 864x595.44 with 1 Axes>"
      ]
     },
     "metadata": {},
     "output_type": "display_data"
    }
   ],
   "source": [
    "#create ROC precision recall curve\n",
    "yhat = model2.predict(X_test)\n",
    "\n",
    "\n",
    "precision, recall, thresholds = precision_recall_curve(y_test, yhat)\n",
    "fscore = (2 * precision * recall) / (precision + recall)\n",
    "ix = argmax(fscore)\n",
    "\n",
    "\n",
    "no_skill = len(y_test[y_test==1]) / len(y_test)\n",
    "plt.plot([0,1], [no_skill,no_skill], linestyle='--', label='No Skill')\n",
    "plt.plot(recall, precision, marker='.', label='Logistic')\n",
    "plt.scatter(recall[ix], precision[ix], marker='o', color='black', label='Best')\n",
    "\n",
    "plt.xlabel('Recall')\n",
    "plt.ylabel('Precision')\n",
    "plt.legend()\n",
    "\n",
    "plt.show()\n",
    "\n"
   ]
  },
  {
   "cell_type": "code",
   "execution_count": 322,
   "metadata": {},
   "outputs": [
    {
     "name": "stdout",
     "output_type": "stream",
     "text": [
      "Model Confusion Matrix: [[  0 320]\n",
      " [  0 396]]\n",
      "Model Accuracy: 0.553072625698324\n",
      "Model Recall: 1.0\n",
      "Model Precision: 0.553072625698324\n"
     ]
    }
   ],
   "source": [
    "#run model 2 using 0.00 threshold\n",
    "predicted = (model2.predict(X_train) >= 0.00)\n",
    "\n",
    "confmatrix = confusion_matrix(y_train, predicted)\n",
    "acc = accuracy_score(y_train, predicted)\n",
    "rec = recall_score(y_train, predicted)\n",
    "pre = precision_score(y_train, predicted)\n",
    "\n",
    "print('Model Confusion Matrix:', confmatrix)\n",
    "print('Model Accuracy:', acc)\n",
    "print('Model Recall:', rec)\n",
    "print('Model Precision:', pre)"
   ]
  },
  {
   "cell_type": "code",
   "execution_count": 319,
   "metadata": {},
   "outputs": [
    {
     "name": "stdout",
     "output_type": "stream",
     "text": [
      "Model Confusion Matrix: [[  0  90]\n",
      " [  0 112]]\n",
      "Model Accuracy: 0.5544554455445545\n",
      "Model Recall: 1.0\n",
      "Model Precision: 0.5544554455445545\n"
     ]
    }
   ],
   "source": [
    "#check with test data\n",
    "predicted = (model.predict(X_test) >= 0.00)\n",
    "\n",
    "confmatrix2 = confusion_matrix(y_test, predicted)\n",
    "acc2 = accuracy_score(y_test, predicted)\n",
    "rec2 = recall_score(y_test, predicted)\n",
    "pre2 = precision_score(y_test, predicted)\n",
    "\n",
    "print('Model Confusion Matrix:', confmatrix2)\n",
    "print('Model Accuracy:', acc2)\n",
    "print('Model Recall:', rec2)\n",
    "print('Model Precision:', pre2)"
   ]
  },
  {
   "cell_type": "markdown",
   "metadata": {},
   "source": [
    "#### From this we can see the 100% recall is achieveable but I believe the reduction in accuracy and precision is not worth the 5% increase in recall therefore I would recommend going with model 2 with a threshold of 0.5 and continue to collect data to improve this model. "
   ]
  },
  {
   "cell_type": "code",
   "execution_count": null,
   "metadata": {},
   "outputs": [],
   "source": []
  }
 ],
 "metadata": {
  "kernelspec": {
   "display_name": "Python 3",
   "language": "python",
   "name": "python3"
  },
  "language_info": {
   "codemirror_mode": {
    "name": "ipython",
    "version": 3
   },
   "file_extension": ".py",
   "mimetype": "text/x-python",
   "name": "python",
   "nbconvert_exporter": "python",
   "pygments_lexer": "ipython3",
   "version": "3.8.5"
  }
 },
 "nbformat": 4,
 "nbformat_minor": 4
}
